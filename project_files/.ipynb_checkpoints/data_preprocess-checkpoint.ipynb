{
 "cells": [
  {
   "cell_type": "code",
   "execution_count": null,
   "metadata": {},
   "outputs": [],
   "source": [
    "import json\n",
    "import numpy as np\n",
    "import pandas as pd\n",
    "from pandas.io.json import json_normalize\n",
    "import operator\n",
    "import math\n",
    "import nltk\n",
    "nltk.download('punkt')\n",
    "from nltk.tokenize import word_tokenize "
   ]
  },
  {
   "cell_type": "markdown",
   "metadata": {},
   "source": [
    "# Process data files"
   ]
  },
  {
   "cell_type": "code",
   "execution_count": null,
   "metadata": {},
   "outputs": [],
   "source": [
    "def eval_file(file):\n",
    "    f = open(file, \"r\", encoding=\"utf-8\")\n",
    "    lst = []\n",
    "    for line in f:\n",
    "        obj = eval(line)\n",
    "        lst.append(obj)\n",
    "    json.dumps(lst)\n",
    "    return lst"
   ]
  },
  {
   "cell_type": "code",
   "execution_count": null,
   "metadata": {},
   "outputs": [],
   "source": [
    "bundle_data = eval_file(\"../data/bundle_data.json\")\n",
    "users_items = eval_file(\"../data/australian_users_items.json\")\n",
    "steam_games = eval_file(\"../data/steam_games.json\")"
   ]
  },
  {
   "cell_type": "code",
   "execution_count": null,
   "metadata": {},
   "outputs": [],
   "source": [
    "bundle_df = json_normalize(bundle_data, \"items\", [\"bundle_final_price\", \"bundle_url\", \"bundle_price\", \"bundle_name\", \"bundle_id\"])\n",
    "steam_games_df = pd.DataFrame(data=steam_games)"
   ]
  },
  {
   "cell_type": "markdown",
   "metadata": {},
   "source": [
    "# Data Preprocessing"
   ]
  },
  {
   "cell_type": "code",
   "execution_count": null,
   "metadata": {},
   "outputs": [],
   "source": [
    "def clean_bundle_data():    \n",
    "    clean_bundle_df = bundle_df[bundle_df[\"genre\"]!=\"\"]\n",
    "    return clean_bundle_df"
   ]
  },
  {
   "cell_type": "code",
   "execution_count": null,
   "metadata": {},
   "outputs": [],
   "source": [
    "def clean_games_data():\n",
    "    steam_games_df.drop(labels=[\"app_name\", \"tags\", \"metascore\"], axis=1, inplace=True)\n",
    "    steam_games_df.dropna(subset=[\"title\", \"genres\"], inplace=True)"
   ]
  },
  {
   "cell_type": "code",
   "execution_count": null,
   "metadata": {},
   "outputs": [],
   "source": [
    "def remove_idle_users():\n",
    "    for i in users_items:\n",
    "        if i[\"items_count\"]==0:\n",
    "            users_items.remove(i)"
   ]
  },
  {
   "cell_type": "code",
   "execution_count": null,
   "metadata": {},
   "outputs": [],
   "source": [
    "def perform_data_preprocessing():\n",
    "    clean_games_data()\n",
    "    remove_idle_users()"
   ]
  },
  {
   "cell_type": "code",
   "execution_count": null,
   "metadata": {},
   "outputs": [],
   "source": [
    "def filter_by_playtime(user_id, playtime):\n",
    "    user_data = {}\n",
    "    \n",
    "    for user in users_items:\n",
    "        if user[\"user_id\"]==user_id:\n",
    "            user_data = user\n",
    "            break\n",
    "    \n",
    "    filtered_df = json_normalize(user_data, \"items\", [\"user_id\", \"steam_id\", \"user_url\"])\n",
    "    filtered_df = filtered_df[filtered_df[\"playtime_forever\"] > playtime]\n",
    "    \n",
    "    return filtered_df"
   ]
  },
  {
   "cell_type": "code",
   "execution_count": null,
   "metadata": {},
   "outputs": [],
   "source": [
    "def extract_genres_data_from_bundles(): \n",
    "    \n",
    "    clean_bundle_df = clean_bundle_data()\n",
    "    \n",
    "    filter_genre_from_bundle = {}\n",
    "    for id_ in clean_bundle_df[\"bundle_id\"].unique():\n",
    "        words = \"\"\n",
    "        for genres in clean_bundle_df[clean_bundle_df[\"bundle_id\"]==id_][\"genre\"]:\n",
    "            for genre in genres.split(\",\"):\n",
    "                if genre not in words:\n",
    "                    words = words + genre + \" \"\n",
    "        filter_genre_from_bundle[id_] = words[:-1]\n",
    "        \n",
    "    return filter_genre_from_bundle"
   ]
  },
  {
   "cell_type": "code",
   "execution_count": null,
   "metadata": {},
   "outputs": [],
   "source": [
    "def group_generation(user_id, num_of_users):\n",
    "    user_data = {}\n",
    "    \n",
    "    for user in users_items:\n",
    "        if user[\"user_id\"]==user_id:\n",
    "            user_data = user\n",
    "            break\n",
    "            \n",
    "    filtered_df = json_normalize(user_data, \"items\", [\"user_id\", \"steam_id\", \"user_url\"])\n",
    "    filtered_df = filtered_df[filtered_df[\"playtime_forever\"] > 100]\n",
    "    \n",
    "    genres = get_all_genres_by_user(filtered_df)\n",
    "    top_rated_genres = parse_genres(genres)\n",
    "#     print(genres)\n",
    "#     print(top_rated_genres)\n",
    "    sim = {}\n",
    "    ug = word_tokenize(top_rated_genres)\n",
    "    counter = 0\n",
    "    \n",
    "    for user in users_items:\n",
    "        if user[\"user_id\"]!=user_id:\n",
    "            user_df = json_normalize(user, \"items\", [\"user_id\", \"steam_id\", \"user_url\"])\n",
    "            g = get_all_genres_by_user(user_df)\n",
    "            top_genres = parse_genres(g)\n",
    "            tokens = word_tokenize(top_genres)\n",
    "            \n",
    "            lst1 = []\n",
    "            lst2 = []\n",
    "            cos = 0\n",
    "            vector = list(set().union(ug, tokens))\n",
    "            for i in vector:\n",
    "                if i in ug:\n",
    "                    lst1.append(1)\n",
    "                else:\n",
    "                    lst1.append(0)\n",
    "\n",
    "                if i in tokens:\n",
    "                    lst2.append(1)\n",
    "                else:\n",
    "                    lst2.append(0)\n",
    "                cos += lst1[-1]*lst2[-1]\n",
    "            \n",
    "            if float((sum(lst1)*sum(lst2))**0.5)==0:\n",
    "                continue\n",
    "                \n",
    "            cos = cos / float((sum(lst1)*sum(lst2))**0.5)\n",
    "            if cos >= 0.7:\n",
    "                counter += 1\n",
    "                sim[user[\"user_id\"]] = cos\n",
    "                \n",
    "            if counter == num_of_users:\n",
    "                break\n",
    "                    \n",
    "                \n",
    "    return sorted(sim.items(), key=operator.itemgetter(1), reverse=True)"
   ]
  },
  {
   "cell_type": "code",
   "execution_count": null,
   "metadata": {},
   "outputs": [],
   "source": [
    "user_group = group_generation('76561197970982479', 100)"
   ]
  },
  {
   "cell_type": "code",
   "execution_count": null,
   "metadata": {},
   "outputs": [],
   "source": [
    "user_group"
   ]
  },
  {
   "cell_type": "code",
   "execution_count": null,
   "metadata": {},
   "outputs": [],
   "source": []
  },
  {
   "cell_type": "code",
   "execution_count": null,
   "metadata": {},
   "outputs": [],
   "source": [
    "perform_data_preprocessing()"
   ]
  },
  {
   "cell_type": "code",
   "execution_count": null,
   "metadata": {},
   "outputs": [],
   "source": [
    "steam_games_df.head()"
   ]
  },
  {
   "cell_type": "code",
   "execution_count": null,
   "metadata": {},
   "outputs": [],
   "source": [
    "all_bundles_genres_data = extract_genres_data_from_bundles()"
   ]
  },
  {
   "cell_type": "code",
   "execution_count": null,
   "metadata": {
    "scrolled": true
   },
   "outputs": [],
   "source": [
    "filtered_playtime_df = filter_by_playtime('76561197970982479', 30)"
   ]
  },
  {
   "cell_type": "markdown",
   "metadata": {},
   "source": [
    "# Recommend bundle to user based on most played genres"
   ]
  },
  {
   "cell_type": "code",
   "execution_count": null,
   "metadata": {},
   "outputs": [],
   "source": [
    "def get_all_genres_by_user(user):\n",
    "    genre_count = {}\n",
    "    for index, row in user.iterrows():\n",
    "        if steam_games_df[steam_games_df[\"id\"]==row[\"item_id\"]].index.any()==True:\n",
    "            game_genres = steam_games_df[steam_games_df[\"id\"]==row[\"item_id\"]][\"genres\"].values[0]\n",
    "            for genre in game_genres:\n",
    "                if genre not in genre_count:\n",
    "                    genre_count[genre] = 1\n",
    "                else:\n",
    "                    genre_count[genre] = genre_count[genre] + 1\n",
    "\n",
    "    return sorted(genre_count.items(), key=operator.itemgetter(1), reverse=True)"
   ]
  },
  {
   "cell_type": "code",
   "execution_count": null,
   "metadata": {},
   "outputs": [],
   "source": [
    "def parse_genres(genres):\n",
    "    g = \"\"\n",
    "    for genre in genres[:math.ceil(len(genres)*.75)]:\n",
    "        g = g + genre[0] + \" \"\n",
    "    return g[:-1]"
   ]
  },
  {
   "cell_type": "code",
   "execution_count": null,
   "metadata": {},
   "outputs": [],
   "source": [
    "def get_bundle_similarity_scores(user_genres, all_bundles_genres_data):\n",
    "    sim = {}\n",
    "    ug = word_tokenize(user_genres)\n",
    "    \n",
    "    for id_ in list(all_bundles_genres_data.keys()):\n",
    "        bundle_genres = word_tokenize(all_bundles_genres_data[id_])\n",
    "\n",
    "        lst1 = []\n",
    "        lst2 = []\n",
    "        cos = 0\n",
    "        vector = list(set().union(ug, bundle_genres))\n",
    "        for i in vector:\n",
    "            if i in ug:\n",
    "                lst1.append(1)\n",
    "            else:\n",
    "                lst1.append(0)\n",
    "                \n",
    "            if i in bundle_genres:\n",
    "                lst2.append(1)\n",
    "            else:\n",
    "                lst2.append(0)\n",
    "            cos += lst1[-1]*lst2[-1]\n",
    "\n",
    "        sim[id_] = cos / float((sum(lst1)*sum(lst2))**0.5)\n",
    "    \n",
    "    return sorted(sim.items(), key=operator.itemgetter(1), reverse=True)"
   ]
  },
  {
   "cell_type": "code",
   "execution_count": null,
   "metadata": {},
   "outputs": [],
   "source": [
    "all_user_genres = get_all_genres_by_user(filtered_playtime_df)"
   ]
  },
  {
   "cell_type": "code",
   "execution_count": null,
   "metadata": {},
   "outputs": [],
   "source": [
    "top_rated_genres = parse_genres(all_user_genres)"
   ]
  },
  {
   "cell_type": "code",
   "execution_count": null,
   "metadata": {},
   "outputs": [],
   "source": [
    "sim = get_bundle_similarity_scores(top_rated_genres, all_bundles_genres_data)"
   ]
  },
  {
   "cell_type": "code",
   "execution_count": null,
   "metadata": {},
   "outputs": [],
   "source": [
    "sim"
   ]
  },
  {
   "cell_type": "code",
   "execution_count": null,
   "metadata": {},
   "outputs": [],
   "source": [
    "def get_bundle_recommendations(user_id, num_recommendations, sim, bundle_data=bundle_data):\n",
    "    \n",
    "    recommendations = []\n",
    "    for id_ in sim[:num_recommendations]:\n",
    "        for bundle in bundle_data:\n",
    "            if bundle[\"bundle_id\"]==id_[0]:\n",
    "                recommendations.append(bundle)\n",
    "                break\n",
    "    \n",
    "    return recommendations"
   ]
  },
  {
   "cell_type": "code",
   "execution_count": null,
   "metadata": {},
   "outputs": [],
   "source": [
    "recommendations = get_bundle_recommendations('76561197970982479', 3, sim)"
   ]
  },
  {
   "cell_type": "code",
   "execution_count": null,
   "metadata": {},
   "outputs": [],
   "source": [
    "recommendations"
   ]
  },
  {
   "cell_type": "code",
   "execution_count": null,
   "metadata": {},
   "outputs": [],
   "source": []
  }
 ],
 "metadata": {
  "kernelspec": {
   "display_name": "Python 3",
   "language": "python",
   "name": "python3"
  },
  "language_info": {
   "codemirror_mode": {
    "name": "ipython",
    "version": 3
   },
   "file_extension": ".py",
   "mimetype": "text/x-python",
   "name": "python",
   "nbconvert_exporter": "python",
   "pygments_lexer": "ipython3",
   "version": "3.7.4"
  }
 },
 "nbformat": 4,
 "nbformat_minor": 2
}
